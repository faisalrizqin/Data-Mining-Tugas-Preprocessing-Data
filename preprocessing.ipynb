{
  "nbformat": 4,
  "nbformat_minor": 0,
  "metadata": {
    "colab": {
      "provenance": [],
      "authorship_tag": "ABX9TyN8tqAOiVbXBTYNcJl1MnKu",
      "include_colab_link": true
    },
    "kernelspec": {
      "name": "python3",
      "display_name": "Python 3"
    },
    "language_info": {
      "name": "python"
    }
  },
  "cells": [
    {
      "cell_type": "markdown",
      "metadata": {
        "id": "view-in-github",
        "colab_type": "text"
      },
      "source": [
        "<a href=\"https://colab.research.google.com/github/faisalrizqin/Data-Mining-Tugas-Preprocessing-Data/blob/main/DM_Tugas_Preprocessing_Data.ipynb\" target=\"_parent\"><img src=\"https://colab.research.google.com/assets/colab-badge.svg\" alt=\"Open In Colab\"/></a>"
      ]
    },
    {
      "cell_type": "code",
      "execution_count": 2,
      "metadata": {
        "id": "p14l9Higo1Pz"
      },
      "outputs": [],
      "source": [
        "# =====================================\n",
        "# DATA MINING – Preprocessing Data\n",
        "# Dataset : Heart Disease (Processed Cleveland) - UCI Machine Learning Repository\n",
        "# ====================================="
      ]
    },
    {
      "cell_type": "code",
      "source": [
        "# Importing the libraries\n",
        "import numpy as np\n",
        "import pandas as pd\n",
        "import matplotlib.pyplot as plt"
      ],
      "metadata": {
        "id": "9SeXeLrVqIxV"
      },
      "execution_count": 3,
      "outputs": []
    },
    {
      "cell_type": "code",
      "source": [
        "# Importing the dataset\n",
        "# File 'cleveland.data' tidak memiliki header, jadi kita tambahkan manual berdasarkan heart-disease.names\n",
        "# Tanda '?' diubah menjadi NaN agar bisa ditangani dengan SimpleImputer\n",
        "dataset = pd.read_csv('processed.cleveland.data', header=None, na_values='?')"
      ],
      "metadata": {
        "id": "ElbAaRZkqPsG"
      },
      "execution_count": 34,
      "outputs": []
    },
    {
      "cell_type": "code",
      "source": [
        "# nama kolom\n",
        "dataset.columns = [\n",
        "    'age', 'sex', 'cp', 'trestbps', 'chol', 'fbs',\n",
        "    'restecg', 'thalach', 'exang', 'oldpeak', 'slope',\n",
        "    'ca', 'thal', 'target'\n",
        "]"
      ],
      "metadata": {
        "id": "6jcTGeWuqXoe"
      },
      "execution_count": 87,
      "outputs": []
    },
    {
      "cell_type": "code",
      "source": [
        "# Cek missing value\n",
        "print(\"===== Jumlah Missing Value per Kolom =====\")\n",
        "print(dataset.isnull().sum(), \"\\n\")"
      ],
      "metadata": {
        "colab": {
          "base_uri": "https://localhost:8080/"
        },
        "id": "co09u6jfql7Y",
        "outputId": "6a5721cc-8f7d-4d4b-a37e-2cfdf6492f36"
      },
      "execution_count": 35,
      "outputs": [
        {
          "output_type": "stream",
          "name": "stdout",
          "text": [
            "===== Jumlah Missing Value per Kolom =====\n",
            "0     0\n",
            "1     0\n",
            "2     0\n",
            "3     0\n",
            "4     0\n",
            "5     0\n",
            "6     0\n",
            "7     0\n",
            "8     0\n",
            "9     0\n",
            "10    0\n",
            "11    4\n",
            "12    2\n",
            "13    0\n",
            "dtype: int64 \n",
            "\n"
          ]
        }
      ]
    },
    {
      "cell_type": "code",
      "source": [
        "# Tampilkan hanya baris yang memiliki missing value\n",
        "missing_data = dataset[dataset.isnull().any(axis=1)]\n",
        "\n",
        "print(\"===== Data yang Memiliki Missing Value =====\")\n",
        "print(missing_data)\n",
        "print(\"\\nJumlah data dengan missing value:\", len(missing_data))\n",
        "\n",
        "# Simpan index baris yang punya missing value agar bisa dilihat lagi setelah imputasi\n",
        "missing_index = missing_data.index"
      ],
      "metadata": {
        "colab": {
          "base_uri": "https://localhost:8080/"
        },
        "id": "W6JRutq9RhbC",
        "outputId": "49a4647a-d35b-4637-b99a-8597c1df0b8a"
      },
      "execution_count": 66,
      "outputs": [
        {
          "output_type": "stream",
          "name": "stdout",
          "text": [
            "===== Data yang Memiliki Missing Value =====\n",
            "       0    1    2      3      4    5    6      7    8    9    10   11   12  \\\n",
            "87   53.0  0.0  3.0  128.0  216.0  0.0  2.0  115.0  0.0  0.0  1.0  0.0  NaN   \n",
            "166  52.0  1.0  3.0  138.0  223.0  0.0  0.0  169.0  0.0  0.0  1.0  NaN  3.0   \n",
            "192  43.0  1.0  4.0  132.0  247.0  1.0  2.0  143.0  1.0  0.1  2.0  NaN  7.0   \n",
            "266  52.0  1.0  4.0  128.0  204.0  1.0  0.0  156.0  1.0  1.0  2.0  0.0  NaN   \n",
            "287  58.0  1.0  2.0  125.0  220.0  0.0  0.0  144.0  0.0  0.4  2.0  NaN  7.0   \n",
            "302  38.0  1.0  3.0  138.0  175.0  0.0  0.0  173.0  0.0  0.0  1.0  NaN  3.0   \n",
            "\n",
            "     13  \n",
            "87    0  \n",
            "166   0  \n",
            "192   1  \n",
            "266   2  \n",
            "287   0  \n",
            "302   0  \n",
            "\n",
            "Jumlah data dengan missing value: 6\n"
          ]
        }
      ]
    },
    {
      "cell_type": "code",
      "source": [
        "# Pisahkan fitur (X) dan label (Y)\n",
        "x = dataset.iloc[:, :-1].values   # semua kolom kecuali target\n",
        "y = dataset.iloc[:, -1].values    # kolom target"
      ],
      "metadata": {
        "id": "l7hRsLiwqojF"
      },
      "execution_count": 67,
      "outputs": []
    },
    {
      "cell_type": "code",
      "source": [
        "pd.set_option('display.max_columns', None)  # tampilkan semua kolom\n",
        "pd.set_option('display.width', None)        # agat tidak dipotong per baris\n",
        "pd.set_option('display.max_rows', 20)       # tampilkan maksimal 20 baris saja (opsional)\n",
        "\n",
        "print(pd.DataFrame(x, columns=dataset.columns[:-1]))"
      ],
      "metadata": {
        "colab": {
          "base_uri": "https://localhost:8080/"
        },
        "id": "u_BLFrEZR9G5",
        "outputId": "4112ba63-cb31-483c-877a-331a497e7205"
      },
      "execution_count": 68,
      "outputs": [
        {
          "output_type": "stream",
          "name": "stdout",
          "text": [
            "       0    1    2      3      4    5    6      7    8    9    10   11   12\n",
            "0    63.0  1.0  1.0  145.0  233.0  1.0  2.0  150.0  0.0  2.3  3.0  0.0  6.0\n",
            "1    67.0  1.0  4.0  160.0  286.0  0.0  2.0  108.0  1.0  1.5  2.0  3.0  3.0\n",
            "2    67.0  1.0  4.0  120.0  229.0  0.0  2.0  129.0  1.0  2.6  2.0  2.0  7.0\n",
            "3    37.0  1.0  3.0  130.0  250.0  0.0  0.0  187.0  0.0  3.5  3.0  0.0  3.0\n",
            "4    41.0  0.0  2.0  130.0  204.0  0.0  2.0  172.0  0.0  1.4  1.0  0.0  3.0\n",
            "..    ...  ...  ...    ...    ...  ...  ...    ...  ...  ...  ...  ...  ...\n",
            "298  45.0  1.0  1.0  110.0  264.0  0.0  0.0  132.0  0.0  1.2  2.0  0.0  7.0\n",
            "299  68.0  1.0  4.0  144.0  193.0  1.0  0.0  141.0  0.0  3.4  2.0  2.0  7.0\n",
            "300  57.0  1.0  4.0  130.0  131.0  0.0  0.0  115.0  1.0  1.2  2.0  1.0  7.0\n",
            "301  57.0  0.0  2.0  130.0  236.0  0.0  2.0  174.0  0.0  0.0  2.0  1.0  3.0\n",
            "302  38.0  1.0  3.0  138.0  175.0  0.0  0.0  173.0  0.0  0.0  1.0  NaN  3.0\n",
            "\n",
            "[303 rows x 13 columns]\n"
          ]
        }
      ]
    },
    {
      "cell_type": "code",
      "source": [
        "print(y)"
      ],
      "metadata": {
        "colab": {
          "base_uri": "https://localhost:8080/"
        },
        "id": "4Awvi2WKSxNb",
        "outputId": "0e67224b-4708-48a3-e4ca-7e3902786a62"
      },
      "execution_count": 69,
      "outputs": [
        {
          "output_type": "stream",
          "name": "stdout",
          "text": [
            "[0 2 1 0 0 0 3 0 2 1 0 0 2 0 0 0 1 0 0 0 0 0 1 3 4 0 0 0 0 3 0 2 1 0 0 0 3\n",
            " 1 3 0 4 0 0 0 1 4 0 4 0 0 0 0 2 0 1 1 1 1 0 0 2 0 1 0 2 2 1 0 2 1 0 3 1 1\n",
            " 1 0 1 0 0 3 0 0 0 3 0 0 0 0 0 0 0 3 0 0 0 1 2 3 0 0 0 0 0 0 3 0 2 1 2 3 1\n",
            " 1 0 2 2 0 0 0 3 2 3 4 0 3 1 0 3 3 0 0 0 0 0 0 0 0 4 3 1 0 0 1 0 1 0 1 4 0\n",
            " 0 0 0 0 0 4 3 1 1 1 2 0 0 4 0 0 0 0 0 0 1 0 3 0 1 0 4 1 0 1 0 0 3 2 0 0 1\n",
            " 0 0 2 1 2 0 3 1 2 0 3 0 0 0 1 0 0 0 0 0 3 3 3 0 1 0 4 0 3 1 0 0 0 0 0 0 0\n",
            " 0 3 1 0 0 0 3 2 0 2 1 0 0 3 2 1 0 0 0 0 0 2 0 2 2 1 3 0 0 1 0 0 0 0 0 0 0\n",
            " 1 0 3 0 0 4 2 2 2 1 0 1 0 2 0 1 0 0 0 1 0 2 0 3 0 2 4 2 0 0 0 1 0 2 2 1 0\n",
            " 3 1 1 2 3 1 0]\n"
          ]
        }
      ]
    },
    {
      "cell_type": "code",
      "source": [
        "# Menangani Missing Value\n",
        "# Gunakan SimpleImputer untuk mengganti nilai NaN dengan rata-rata kolom\n",
        "from sklearn.impute import SimpleImputer\n",
        "imputer = SimpleImputer(missing_values=np.nan, strategy='mean')\n",
        "x = imputer.fit_transform(x)"
      ],
      "metadata": {
        "id": "EfsFa7TGqsYN"
      },
      "execution_count": 70,
      "outputs": []
    },
    {
      "cell_type": "code",
      "source": [
        "# Ubah kembali ke DataFrame agar bisa ditampilkan dengan nama kolom\n",
        "x_df = pd.DataFrame(x, columns=dataset.columns[:-1])\n",
        "\n",
        "# Tampilkan baris yang dulu punya missing value, setelah diganti rata-rata\n",
        "print(\"===== Data Setelah Missing Value Diganti Dengan Nilai Rata-rata =====\")\n",
        "print(x_df.loc[missing_index])"
      ],
      "metadata": {
        "colab": {
          "base_uri": "https://localhost:8080/"
        },
        "id": "qn6ub8sNqwFO",
        "outputId": "a9ccd6b2-0fdc-465b-9082-8b053667667c"
      },
      "execution_count": 71,
      "outputs": [
        {
          "output_type": "stream",
          "name": "stdout",
          "text": [
            "===== Data Setelah Missing Value Diganti Dengan Nilai Rata-rata =====\n",
            "       0    1    2      3      4    5    6      7    8    9    10        11  \\\n",
            "87   53.0  0.0  3.0  128.0  216.0  0.0  2.0  115.0  0.0  0.0  1.0  0.000000   \n",
            "166  52.0  1.0  3.0  138.0  223.0  0.0  0.0  169.0  0.0  0.0  1.0  0.672241   \n",
            "192  43.0  1.0  4.0  132.0  247.0  1.0  2.0  143.0  1.0  0.1  2.0  0.672241   \n",
            "266  52.0  1.0  4.0  128.0  204.0  1.0  0.0  156.0  1.0  1.0  2.0  0.000000   \n",
            "287  58.0  1.0  2.0  125.0  220.0  0.0  0.0  144.0  0.0  0.4  2.0  0.672241   \n",
            "302  38.0  1.0  3.0  138.0  175.0  0.0  0.0  173.0  0.0  0.0  1.0  0.672241   \n",
            "\n",
            "           12  \n",
            "87   4.734219  \n",
            "166  3.000000  \n",
            "192  7.000000  \n",
            "266  4.734219  \n",
            "287  7.000000  \n",
            "302  3.000000  \n"
          ]
        }
      ]
    },
    {
      "cell_type": "code",
      "source": [
        "# Encoding data kategori (Atribut)\n",
        "from sklearn.compose import ColumnTransformer\n",
        "from sklearn.preprocessing import OneHotEncoder\n",
        "\n",
        "# Kolom kategori berdasarkan indeks:\n",
        "# 1=sex, 2=cp, 5=fbs, 6=restecg, 8=exang, 10=slope, 11=ca, 12=thal\n",
        "kategori_index = [1, 2, 5, 6, 8, 10, 11, 12]"
      ],
      "metadata": {
        "id": "paXR8gbvqyN_"
      },
      "execution_count": 77,
      "outputs": []
    },
    {
      "cell_type": "code",
      "source": [
        "# ===== Sebelum Encoding =====\n",
        "print(\"===== Dataset Sebelum Encoding =====\")\n",
        "df_before = x_df.copy()\n",
        "print(df_before.head())\n",
        "print(\"\\nJumlah kolom sebelum encoding:\", df_before.shape[1], \"\\n\")"
      ],
      "metadata": {
        "colab": {
          "base_uri": "https://localhost:8080/"
        },
        "id": "R0L8ijQWZ7b1",
        "outputId": "01ff7906-5658-4c2b-b096-cf920138b3e4"
      },
      "execution_count": 89,
      "outputs": [
        {
          "output_type": "stream",
          "name": "stdout",
          "text": [
            "===== Dataset Sebelum Encoding =====\n",
            "     0    1    2      3      4    5    6      7    8    9    10   11   12\n",
            "0  63.0  1.0  1.0  145.0  233.0  1.0  2.0  150.0  0.0  2.3  3.0  0.0  6.0\n",
            "1  67.0  1.0  4.0  160.0  286.0  0.0  2.0  108.0  1.0  1.5  2.0  3.0  3.0\n",
            "2  67.0  1.0  4.0  120.0  229.0  0.0  2.0  129.0  1.0  2.6  2.0  2.0  7.0\n",
            "3  37.0  1.0  3.0  130.0  250.0  0.0  0.0  187.0  0.0  3.5  3.0  0.0  3.0\n",
            "4  41.0  0.0  2.0  130.0  204.0  0.0  2.0  172.0  0.0  1.4  1.0  0.0  3.0\n",
            "\n",
            "Jumlah kolom sebelum encoding: 13 \n",
            "\n"
          ]
        }
      ]
    },
    {
      "cell_type": "code",
      "source": [
        "# ===== Proses Encoding =====\n",
        "# Buat dan latih encoder\n",
        "encoder = OneHotEncoder()\n",
        "encoder.fit(x[:, kategori_index])\n",
        "\n",
        "# Ambil nama kolom hasil encoding dalam format yang mudah dibaca\n",
        "encoded_feature_names = []\n",
        "for i, col_name in enumerate(np.array(dataset.columns[:-1])[kategori_index]):\n",
        "    categories = encoder.categories_[i]\n",
        "    encoded_feature_names += [f\"{col_name}={int(cat)}\" for cat in categories]\n",
        "\n",
        "# Gabungkan hasil encoding dan kolom numerik\n",
        "ct = ColumnTransformer(\n",
        "    transformers=[('encoder', encoder, kategori_index)],\n",
        "    remainder='passthrough'\n",
        ")\n",
        "x_encoded = np.array(ct.fit_transform(x))\n",
        "\n",
        "# Ambil kolom non-kategori (yang tidak diubah)\n",
        "non_cat_columns = [col for i, col in enumerate(dataset.columns[:-1]) if i not in kategori_index]\n",
        "all_feature_names = encoded_feature_names + non_cat_columns"
      ],
      "metadata": {
        "id": "8C9Cp8ODY2oc"
      },
      "execution_count": 90,
      "outputs": []
    },
    {
      "cell_type": "code",
      "source": [
        "# ===== Setelah Encoding =====\n",
        "print(\"===== Dataset Setelah Encoding =====\")\n",
        "df_after = pd.DataFrame(x_encoded, columns=all_feature_names)\n",
        "print(df_after.head())\n",
        "print(\"\\nJumlah kolom setelah encoding:\", df_after.shape[1])"
      ],
      "metadata": {
        "colab": {
          "base_uri": "https://localhost:8080/"
        },
        "id": "caIBx6-FZPsM",
        "outputId": "842a9a69-f019-4fbd-fdde-e168e81da330"
      },
      "execution_count": 91,
      "outputs": [
        {
          "output_type": "stream",
          "name": "stdout",
          "text": [
            "===== Dataset Setelah Encoding =====\n",
            "   sex=0  sex=1  cp=1  cp=2  cp=3  cp=4  fbs=0  fbs=1  restecg=0  restecg=1  \\\n",
            "0    0.0    1.0   1.0   0.0   0.0   0.0    0.0    1.0        0.0        0.0   \n",
            "1    0.0    1.0   0.0   0.0   0.0   1.0    1.0    0.0        0.0        0.0   \n",
            "2    0.0    1.0   0.0   0.0   0.0   1.0    1.0    0.0        0.0        0.0   \n",
            "3    0.0    1.0   0.0   0.0   1.0   0.0    1.0    0.0        1.0        0.0   \n",
            "4    1.0    0.0   0.0   1.0   0.0   0.0    1.0    0.0        0.0        0.0   \n",
            "\n",
            "   restecg=2  exang=0  exang=1  slope=1  slope=2  slope=3  ca=0  ca=0  ca=1  \\\n",
            "0        1.0      1.0      0.0      0.0      0.0      1.0   1.0   0.0   0.0   \n",
            "1        1.0      0.0      1.0      0.0      1.0      0.0   0.0   0.0   0.0   \n",
            "2        1.0      0.0      1.0      0.0      1.0      0.0   0.0   0.0   0.0   \n",
            "3        0.0      1.0      0.0      0.0      0.0      1.0   1.0   0.0   0.0   \n",
            "4        1.0      1.0      0.0      1.0      0.0      0.0   1.0   0.0   0.0   \n",
            "\n",
            "   ca=2  ca=3  thal=3  thal=4  thal=6  thal=7   age  trestbps   chol  thalach  \\\n",
            "0   0.0   0.0     0.0     0.0     1.0     0.0  63.0     145.0  233.0    150.0   \n",
            "1   0.0   1.0     1.0     0.0     0.0     0.0  67.0     160.0  286.0    108.0   \n",
            "2   1.0   0.0     0.0     0.0     0.0     1.0  67.0     120.0  229.0    129.0   \n",
            "3   0.0   0.0     1.0     0.0     0.0     0.0  37.0     130.0  250.0    187.0   \n",
            "4   0.0   0.0     1.0     0.0     0.0     0.0  41.0     130.0  204.0    172.0   \n",
            "\n",
            "   oldpeak  \n",
            "0      2.3  \n",
            "1      1.5  \n",
            "2      2.6  \n",
            "3      3.5  \n",
            "4      1.4  \n",
            "\n",
            "Jumlah kolom setelah encoding: 30\n"
          ]
        }
      ]
    },
    {
      "cell_type": "code",
      "source": [
        "# Encoding data label (Class/Target)\n",
        "# Label (target) pada dataset: 0 = sehat, 1–4 = memiliki tingkat penyakit\n",
        "# Kita ubah menjadi biner (0 = sehat, 1 = sakit)\n",
        "y = np.where(y > 0, 1, 0)"
      ],
      "metadata": {
        "id": "WOnWAOH3q52t"
      },
      "execution_count": 92,
      "outputs": []
    },
    {
      "cell_type": "code",
      "source": [
        "print(\"===== Setelah Label Encoding (y) =====\")\n",
        "print(y[:20], \"\\n\")"
      ],
      "metadata": {
        "colab": {
          "base_uri": "https://localhost:8080/"
        },
        "id": "E8_nXp7lrFkl",
        "outputId": "fda29bfc-b0a4-4b64-bb55-9f8ec2153b3a"
      },
      "execution_count": 93,
      "outputs": [
        {
          "output_type": "stream",
          "name": "stdout",
          "text": [
            "===== Setelah Label Encoding (y) =====\n",
            "[0 1 1 0 0 0 1 0 1 1 0 0 1 0 0 0 1 0 0 0] \n",
            "\n"
          ]
        }
      ]
    },
    {
      "cell_type": "code",
      "source": [
        "# Membagi dataset ke dalam training set dan test set\n",
        "from sklearn.model_selection import train_test_split\n",
        "x_train, x_test, y_train, y_test = train_test_split(\n",
        "    x, y, test_size=0.2, random_state=1\n",
        ")"
      ],
      "metadata": {
        "id": "a4YPCbpRrHcW"
      },
      "execution_count": 107,
      "outputs": []
    },
    {
      "cell_type": "code",
      "source": [
        "# ===== Ubah ke DataFrame agar tampil dengan nama kolom =====\n",
        "x_train_df = pd.DataFrame(x_train, columns=dataset.columns[:-1])\n",
        "x_test_df = pd.DataFrame(x_test, columns=dataset.columns[:-1])\n",
        "y_train_df = pd.DataFrame(y_train, columns=['target'])\n",
        "y_test_df = pd.DataFrame(y_test, columns=['target'])"
      ],
      "metadata": {
        "id": "Z98Bi5hCgIGZ"
      },
      "execution_count": 109,
      "outputs": []
    },
    {
      "cell_type": "code",
      "source": [
        "# ===== Tampilkan hasil =====\n",
        "print(\"===== Data Training (x_train) =====\")\n",
        "print(x_train_df.head(10))   # tampilkan 10 baris pertama\n",
        "print(\"\\n===== Data Testing (x_test) =====\")\n",
        "print(x_test_df.head(10))\n",
        "\n",
        "print(\"\\n===== Label Training (y_train) =====\")\n",
        "print(y_train_df.head(10))\n",
        "print(\"\\n===== Label Testing (y_test) =====\")\n",
        "print(y_test_df.head(10))"
      ],
      "metadata": {
        "colab": {
          "base_uri": "https://localhost:8080/"
        },
        "id": "E4v0nV2lgSr_",
        "outputId": "f2cba687-0540-411e-d606-5c3e11c3f73c"
      },
      "execution_count": 99,
      "outputs": [
        {
          "output_type": "stream",
          "name": "stdout",
          "text": [
            "===== Data Training (x_train) =====\n",
            "    age  sex   cp  trestbps   chol  fbs  restecg  thalach  exang  oldpeak  \\\n",
            "0  58.0  1.0  4.0     128.0  216.0  0.0      2.0    131.0    1.0      2.2   \n",
            "1  54.0  1.0  4.0     110.0  239.0  0.0      0.0    126.0    1.0      2.8   \n",
            "2  56.0  1.0  4.0     125.0  249.0  1.0      2.0    144.0    1.0      1.2   \n",
            "3  58.0  1.0  2.0     125.0  220.0  0.0      0.0    144.0    0.0      0.4   \n",
            "4  61.0  1.0  4.0     120.0  260.0  0.0      0.0    140.0    1.0      3.6   \n",
            "5  44.0  1.0  3.0     140.0  235.0  0.0      2.0    180.0    0.0      0.0   \n",
            "6  54.0  0.0  2.0     132.0  288.0  1.0      2.0    159.0    1.0      0.0   \n",
            "7  48.0  1.0  4.0     130.0  256.0  1.0      2.0    150.0    1.0      0.0   \n",
            "8  48.0  1.0  4.0     124.0  274.0  0.0      2.0    166.0    0.0      0.5   \n",
            "9  61.0  1.0  3.0     150.0  243.0  1.0      0.0    137.0    1.0      1.0   \n",
            "\n",
            "   slope        ca  thal  \n",
            "0    2.0  3.000000   7.0  \n",
            "1    2.0  1.000000   7.0  \n",
            "2    2.0  1.000000   3.0  \n",
            "3    2.0  0.672241   7.0  \n",
            "4    2.0  1.000000   7.0  \n",
            "5    1.0  0.000000   3.0  \n",
            "6    1.0  1.000000   3.0  \n",
            "7    1.0  2.000000   7.0  \n",
            "8    2.0  0.000000   7.0  \n",
            "9    2.0  0.000000   3.0  \n",
            "\n",
            "===== Data Testing (x_test) =====\n",
            "    age  sex   cp  trestbps   chol  fbs  restecg  thalach  exang  oldpeak  \\\n",
            "0  43.0  1.0  4.0     110.0  211.0  0.0      0.0    161.0    0.0      0.0   \n",
            "1  68.0  1.0  3.0     118.0  277.0  0.0      0.0    151.0    0.0      1.0   \n",
            "2  59.0  1.0  4.0     138.0  271.0  0.0      2.0    182.0    0.0      0.0   \n",
            "3  64.0  1.0  4.0     145.0  212.0  0.0      2.0    132.0    0.0      2.0   \n",
            "4  60.0  0.0  4.0     158.0  305.0  0.0      2.0    161.0    0.0      0.0   \n",
            "5  41.0  1.0  2.0     120.0  157.0  0.0      0.0    182.0    0.0      0.0   \n",
            "6  42.0  1.0  3.0     130.0  180.0  0.0      0.0    150.0    0.0      0.0   \n",
            "7  65.0  1.0  4.0     135.0  254.0  0.0      2.0    127.0    0.0      2.8   \n",
            "8  62.0  0.0  4.0     138.0  294.0  1.0      0.0    106.0    0.0      1.9   \n",
            "9  64.0  1.0  4.0     120.0  246.0  0.0      2.0     96.0    1.0      2.2   \n",
            "\n",
            "   slope   ca  thal  \n",
            "0    1.0  0.0   7.0  \n",
            "1    1.0  1.0   7.0  \n",
            "2    1.0  0.0   3.0  \n",
            "3    2.0  2.0   6.0  \n",
            "4    1.0  0.0   3.0  \n",
            "5    1.0  0.0   3.0  \n",
            "6    1.0  0.0   3.0  \n",
            "7    2.0  1.0   7.0  \n",
            "8    2.0  3.0   3.0  \n",
            "9    3.0  1.0   3.0  \n",
            "\n",
            "===== Label Training (y_train) =====\n",
            "   target\n",
            "0       1\n",
            "1       1\n",
            "2       1\n",
            "3       0\n",
            "4       1\n",
            "5       0\n",
            "6       0\n",
            "7       1\n",
            "8       1\n",
            "9       0\n",
            "\n",
            "===== Label Testing (y_test) =====\n",
            "   target\n",
            "0       0\n",
            "1       0\n",
            "2       0\n",
            "3       1\n",
            "4       1\n",
            "5       0\n",
            "6       0\n",
            "7       1\n",
            "8       1\n",
            "9       1\n"
          ]
        }
      ]
    },
    {
      "cell_type": "code",
      "source": [
        "# Feature Scaling\n",
        "print(\"===== Sebelum Feature Scaling =====\")\n",
        "print(x_train_df.head(10))"
      ],
      "metadata": {
        "colab": {
          "base_uri": "https://localhost:8080/"
        },
        "id": "q5eqUVnFrQO2",
        "outputId": "a2b56e1d-3774-4b14-8d9b-3619d16139eb"
      },
      "execution_count": 101,
      "outputs": [
        {
          "output_type": "stream",
          "name": "stdout",
          "text": [
            "===== Sebelum Feature Scaling =====\n",
            "    age  sex   cp  trestbps   chol  fbs  restecg  thalach  exang  oldpeak  \\\n",
            "0  58.0  1.0  4.0     128.0  216.0  0.0      2.0    131.0    1.0      2.2   \n",
            "1  54.0  1.0  4.0     110.0  239.0  0.0      0.0    126.0    1.0      2.8   \n",
            "2  56.0  1.0  4.0     125.0  249.0  1.0      2.0    144.0    1.0      1.2   \n",
            "3  58.0  1.0  2.0     125.0  220.0  0.0      0.0    144.0    0.0      0.4   \n",
            "4  61.0  1.0  4.0     120.0  260.0  0.0      0.0    140.0    1.0      3.6   \n",
            "5  44.0  1.0  3.0     140.0  235.0  0.0      2.0    180.0    0.0      0.0   \n",
            "6  54.0  0.0  2.0     132.0  288.0  1.0      2.0    159.0    1.0      0.0   \n",
            "7  48.0  1.0  4.0     130.0  256.0  1.0      2.0    150.0    1.0      0.0   \n",
            "8  48.0  1.0  4.0     124.0  274.0  0.0      2.0    166.0    0.0      0.5   \n",
            "9  61.0  1.0  3.0     150.0  243.0  1.0      0.0    137.0    1.0      1.0   \n",
            "\n",
            "   slope        ca  thal  \n",
            "0    2.0  3.000000   7.0  \n",
            "1    2.0  1.000000   7.0  \n",
            "2    2.0  1.000000   3.0  \n",
            "3    2.0  0.672241   7.0  \n",
            "4    2.0  1.000000   7.0  \n",
            "5    1.0  0.000000   3.0  \n",
            "6    1.0  1.000000   3.0  \n",
            "7    1.0  2.000000   7.0  \n",
            "8    2.0  0.000000   7.0  \n",
            "9    2.0  0.000000   3.0  \n"
          ]
        }
      ]
    },
    {
      "cell_type": "code",
      "source": [
        "# Lakukan Standarisasi (StandardScaler)\n",
        "sc = StandardScaler()\n",
        "x_train_scaled = sc.fit_transform(x_train)\n",
        "x_test_scaled = sc.transform(x_test)"
      ],
      "metadata": {
        "id": "3LOS-TjxhXzt"
      },
      "execution_count": 102,
      "outputs": []
    },
    {
      "cell_type": "code",
      "source": [
        "# Ubah kembali hasil scaling ke DataFrame agar tetap ada nama kolom\n",
        "x_train_scaled_df = pd.DataFrame(x_train_scaled, columns=dataset.columns[:-1])\n",
        "x_test_scaled_df = pd.DataFrame(x_test_scaled, columns=dataset.columns[:-1])"
      ],
      "metadata": {
        "id": "hd2Y6IvShgxJ"
      },
      "execution_count": 103,
      "outputs": []
    },
    {
      "cell_type": "code",
      "source": [
        "# Tampilkan hasil scaling\n",
        "print(\"\\n===== Sesudah Feature Scaling (x_train) =====\")\n",
        "print(x_train_scaled_df.head(10))"
      ],
      "metadata": {
        "colab": {
          "base_uri": "https://localhost:8080/"
        },
        "id": "rb_SR-LShlgC",
        "outputId": "b33f6750-41cb-4a1c-9614-deb3d7dc40d6"
      },
      "execution_count": 104,
      "outputs": [
        {
          "output_type": "stream",
          "name": "stdout",
          "text": [
            "\n",
            "===== Sesudah Feature Scaling (x_train) =====\n",
            "        age       sex        cp  trestbps      chol       fbs   restecg  \\\n",
            "0  0.394913  0.715891  0.861173 -0.205289 -0.613153 -0.411196  1.061864   \n",
            "1 -0.048049  0.715891  0.861173 -1.212316 -0.185429 -0.411196 -0.953596   \n",
            "2  0.173432  0.715891  0.861173 -0.373127  0.000538  2.431930  1.061864   \n",
            "3  0.394913  0.715891 -1.276302 -0.373127 -0.538766 -0.411196 -0.953596   \n",
            "4  0.727135  0.715891  0.861173 -0.652857  0.205102 -0.411196 -0.953596   \n",
            "5 -1.155453  0.715891 -0.207565  0.466062 -0.259816 -0.411196  1.061864   \n",
            "6 -0.048049 -1.396861 -1.276302  0.018495  0.725809  2.431930  1.061864   \n",
            "7 -0.712491  0.715891  0.861173 -0.093397  0.130715  2.431930  1.061864   \n",
            "8 -0.712491  0.715891  0.861173 -0.429073  0.465456 -0.411196  1.061864   \n",
            "9  0.727135  0.715891 -0.207565  1.025522 -0.111042  2.431930 -0.953596   \n",
            "\n",
            "    thalach     exang   oldpeak     slope        ca      thal  \n",
            "0 -0.852478  1.396861  0.979719  0.678075  2.555198  1.161003  \n",
            "1 -1.077059  1.396861  1.498898  0.678075  0.377817  1.161003  \n",
            "2 -0.268569  1.396861  0.114420  0.678075  0.377817 -0.902883  \n",
            "3 -0.268569 -0.715891 -0.577820  0.678075  0.020989  1.161003  \n",
            "4 -0.448233  1.396861  2.191137  0.678075  0.377817  1.161003  \n",
            "5  1.348412 -0.715891 -0.923939 -0.996355 -0.710873 -0.902883  \n",
            "6  0.405173  1.396861 -0.923939 -0.996355  0.377817 -0.902883  \n",
            "7  0.000928  1.396861 -0.923939 -0.996355  1.466508  1.161003  \n",
            "8  0.719586 -0.715891 -0.491290  0.678075 -0.710873  1.161003  \n",
            "9 -0.582982  1.396861 -0.058640  0.678075 -0.710873 -0.902883  \n"
          ]
        }
      ]
    },
    {
      "cell_type": "code",
      "source": [
        "print(\"\\n===== Sesudah Feature Scaling (x_test) =====\")\n",
        "print(x_test_scaled_df.head(10))"
      ],
      "metadata": {
        "colab": {
          "base_uri": "https://localhost:8080/"
        },
        "id": "dckCSJzmhv1S",
        "outputId": "71c2d753-5740-4009-9765-24a4d7128f9f"
      },
      "execution_count": 105,
      "outputs": [
        {
          "output_type": "stream",
          "name": "stdout",
          "text": [
            "\n",
            "===== Sesudah Feature Scaling (x_test) =====\n",
            "        age       sex        cp  trestbps      chol       fbs   restecg  \\\n",
            "0 -1.266193  0.715891  0.861173 -1.212316 -0.706137 -0.411196 -0.953596   \n",
            "1  1.502318  0.715891 -0.207565 -0.764749  0.521246 -0.411196 -0.953596   \n",
            "2  0.505654  0.715891  0.861173  0.354170  0.409665 -0.411196  1.061864   \n",
            "3  1.059356  0.715891  0.861173  0.745792 -0.687540 -0.411196  1.061864   \n",
            "4  0.616394 -1.396861  0.861173  1.473089  1.041953 -0.411196  1.061864   \n",
            "5 -1.487674  0.715891 -1.276302 -0.652857 -1.710359 -0.411196 -0.953596   \n",
            "6 -1.376934  0.715891 -0.207565 -0.093397 -1.282635 -0.411196 -0.953596   \n",
            "7  1.170096  0.715891  0.861173  0.186332  0.093521 -0.411196  1.061864   \n",
            "8  0.837875 -1.396861  0.861173  0.354170  0.837390  2.431930 -0.953596   \n",
            "9  1.059356  0.715891  0.861173 -0.652857 -0.055252 -0.411196  1.061864   \n",
            "\n",
            "    thalach     exang   oldpeak     slope        ca      thal  \n",
            "0  0.495005 -0.715891 -0.923939 -0.996355 -0.710873  1.161003  \n",
            "1  0.045844 -0.715891 -0.058640 -0.996355  0.377817  1.161003  \n",
            "2  1.438244 -0.715891 -0.923939 -0.996355 -0.710873 -0.902883  \n",
            "3 -0.807562 -0.715891  0.806659  0.678075  1.466508  0.645032  \n",
            "4  0.495005 -0.715891 -0.923939 -0.996355 -0.710873 -0.902883  \n",
            "5  1.438244 -0.715891 -0.923939 -0.996355 -0.710873 -0.902883  \n",
            "6  0.000928 -0.715891 -0.923939 -0.996355 -0.710873 -0.902883  \n",
            "7 -1.032143 -0.715891  1.498898  0.678075  0.377817  1.161003  \n",
            "8 -1.975382 -0.715891  0.720129  0.678075  2.555198 -0.902883  \n",
            "9 -2.424543  1.396861  0.979719  2.352505  0.377817 -0.902883  \n"
          ]
        }
      ]
    },
    {
      "cell_type": "code",
      "source": [
        "# Tampilkan ukuran data\n",
        "print(\"\\n===== Ukuran Data =====\")\n",
        "print(\"x_train:\", x_train_scaled_df.shape)\n",
        "print(\"x_test :\", x_test_scaled_df.shape)\n",
        "print(\"y_train:\", y_train_df.shape)\n",
        "print(\"y_test :\", y_test_df.shape)"
      ],
      "metadata": {
        "colab": {
          "base_uri": "https://localhost:8080/"
        },
        "id": "TSxBiXXjh1t5",
        "outputId": "87d9b24c-3693-4c6a-b565-6a9c18a5291c"
      },
      "execution_count": 106,
      "outputs": [
        {
          "output_type": "stream",
          "name": "stdout",
          "text": [
            "\n",
            "===== Ukuran Data =====\n",
            "x_train: (242, 13)\n",
            "x_test : (61, 13)\n",
            "y_train: (242, 1)\n",
            "y_test : (61, 1)\n"
          ]
        }
      ]
    }
  ]
}
